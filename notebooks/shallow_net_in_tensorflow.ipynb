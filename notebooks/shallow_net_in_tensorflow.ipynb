{
  "nbformat": 4,
  "nbformat_minor": 0,
  "metadata": {
    "kernelspec": {
      "display_name": "Python 3",
      "language": "python",
      "name": "python3"
    },
    "language_info": {
      "codemirror_mode": {
        "name": "ipython",
        "version": 3
      },
      "file_extension": ".py",
      "mimetype": "text/x-python",
      "name": "python",
      "nbconvert_exporter": "python",
      "pygments_lexer": "ipython3",
      "version": "3.7.3"
    },
    "colab": {
      "name": "shallow_net_in_tensorflow.ipynb",
      "provenance": []
    }
  },
  "cells": [
    {
      "cell_type": "markdown",
      "metadata": {
        "id": "X99zDma66bKX",
        "colab_type": "text"
      },
      "source": [
        "# Shallow Neural Network in TensorFlow"
      ]
    },
    {
      "cell_type": "markdown",
      "metadata": {
        "id": "HxrtfWMs6bKY",
        "colab_type": "text"
      },
      "source": [
        "Build a shallow neural network to classify handwritten digits"
      ]
    },
    {
      "cell_type": "markdown",
      "metadata": {
        "id": "4CNFY1NL6bKZ",
        "colab_type": "text"
      },
      "source": [
        "[![Open In Colab](https://colab.research.google.com/assets/colab-badge.svg)](https://colab.research.google.com/github/jonkrohn/DLTFpT/blob/master/notebooks/shallow_net_in_tensorflow.ipynb)"
      ]
    },
    {
      "cell_type": "markdown",
      "metadata": {
        "id": "uoxxR9cO6bKa",
        "colab_type": "text"
      },
      "source": [
        "#### Load dependencies"
      ]
    },
    {
      "cell_type": "code",
      "metadata": {
        "scrolled": true,
        "id": "kSks6bjv6bKa",
        "colab_type": "code",
        "colab": {}
      },
      "source": [
        "import tensorflow\n",
        "from tensorflow.keras.datasets import mnist\n",
        "from tensorflow.keras.utils import to_categorical\n",
        "from tensorflow.keras.models import Sequential\n",
        "from tensorflow.keras.layers import Dense\n",
        "from tensorflow.keras.optimizers import SGD\n",
        "from matplotlib import pyplot as plt"
      ],
      "execution_count": 0,
      "outputs": []
    },
    {
      "cell_type": "markdown",
      "metadata": {
        "id": "QnBjN2oH6bKp",
        "colab_type": "text"
      },
      "source": [
        "#### Load data"
      ]
    },
    {
      "cell_type": "code",
      "metadata": {
        "scrolled": true,
        "id": "8J9RtdU06bKq",
        "colab_type": "code",
        "colab": {}
      },
      "source": [
        "(X_train, y_train), (X_valid, y_valid) = mnist.load_data()"
      ],
      "execution_count": 0,
      "outputs": []
    },
    {
      "cell_type": "code",
      "metadata": {
        "id": "1zZTli6m6bKu",
        "colab_type": "code",
        "colab": {
          "base_uri": "https://localhost:8080/",
          "height": 34
        },
        "outputId": "2313acec-16a2-4d0d-cd74-7ac99f474cf7"
      },
      "source": [
        "X_train.shape"
      ],
      "execution_count": 32,
      "outputs": [
        {
          "output_type": "execute_result",
          "data": {
            "text/plain": [
              "(60000, 28, 28)"
            ]
          },
          "metadata": {
            "tags": []
          },
          "execution_count": 32
        }
      ]
    },
    {
      "cell_type": "code",
      "metadata": {
        "id": "3GnvoBHk6bK1",
        "colab_type": "code",
        "colab": {
          "base_uri": "https://localhost:8080/",
          "height": 34
        },
        "outputId": "c8ac7e84-7ee4-4089-d046-77d1db20d367"
      },
      "source": [
        "y_train.shape"
      ],
      "execution_count": 33,
      "outputs": [
        {
          "output_type": "execute_result",
          "data": {
            "text/plain": [
              "(60000,)"
            ]
          },
          "metadata": {
            "tags": []
          },
          "execution_count": 33
        }
      ]
    },
    {
      "cell_type": "code",
      "metadata": {
        "id": "7LOorH2Y6bK4",
        "colab_type": "code",
        "colab": {
          "base_uri": "https://localhost:8080/",
          "height": 34
        },
        "outputId": "30c46a86-5a8f-43ce-bd82-bead8c78f776"
      },
      "source": [
        "y_train[0:12]"
      ],
      "execution_count": 34,
      "outputs": [
        {
          "output_type": "execute_result",
          "data": {
            "text/plain": [
              "array([5, 0, 4, 1, 9, 2, 1, 3, 1, 4, 3, 5], dtype=uint8)"
            ]
          },
          "metadata": {
            "tags": []
          },
          "execution_count": 34
        }
      ]
    },
    {
      "cell_type": "code",
      "metadata": {
        "id": "VdjIm1RZ_OBJ",
        "colab_type": "code",
        "colab": {
          "base_uri": "https://localhost:8080/",
          "height": 1000
        },
        "outputId": "e22f40e7-830f-4161-ce23-136837e430e9"
      },
      "source": [
        "X_train[0:1]"
      ],
      "execution_count": 36,
      "outputs": [
        {
          "output_type": "execute_result",
          "data": {
            "text/plain": [
              "array([[[  0,   0,   0,   0,   0,   0,   0,   0,   0,   0,   0,   0,\n",
              "           0,   0,   0,   0,   0,   0,   0,   0,   0,   0,   0,   0,\n",
              "           0,   0,   0,   0],\n",
              "        [  0,   0,   0,   0,   0,   0,   0,   0,   0,   0,   0,   0,\n",
              "           0,   0,   0,   0,   0,   0,   0,   0,   0,   0,   0,   0,\n",
              "           0,   0,   0,   0],\n",
              "        [  0,   0,   0,   0,   0,   0,   0,   0,   0,   0,   0,   0,\n",
              "           0,   0,   0,   0,   0,   0,   0,   0,   0,   0,   0,   0,\n",
              "           0,   0,   0,   0],\n",
              "        [  0,   0,   0,   0,   0,   0,   0,   0,   0,   0,   0,   0,\n",
              "           0,   0,   0,   0,   0,   0,   0,   0,   0,   0,   0,   0,\n",
              "           0,   0,   0,   0],\n",
              "        [  0,   0,   0,   0,   0,   0,   0,   0,   0,   0,   0,   0,\n",
              "           0,   0,   0,   0,   0,   0,   0,   0,   0,   0,   0,   0,\n",
              "           0,   0,   0,   0],\n",
              "        [  0,   0,   0,   0,   0,   0,   0,   0,   0,   0,   0,   0,\n",
              "           3,  18,  18,  18, 126, 136, 175,  26, 166, 255, 247, 127,\n",
              "           0,   0,   0,   0],\n",
              "        [  0,   0,   0,   0,   0,   0,   0,   0,  30,  36,  94, 154,\n",
              "         170, 253, 253, 253, 253, 253, 225, 172, 253, 242, 195,  64,\n",
              "           0,   0,   0,   0],\n",
              "        [  0,   0,   0,   0,   0,   0,   0,  49, 238, 253, 253, 253,\n",
              "         253, 253, 253, 253, 253, 251,  93,  82,  82,  56,  39,   0,\n",
              "           0,   0,   0,   0],\n",
              "        [  0,   0,   0,   0,   0,   0,   0,  18, 219, 253, 253, 253,\n",
              "         253, 253, 198, 182, 247, 241,   0,   0,   0,   0,   0,   0,\n",
              "           0,   0,   0,   0],\n",
              "        [  0,   0,   0,   0,   0,   0,   0,   0,  80, 156, 107, 253,\n",
              "         253, 205,  11,   0,  43, 154,   0,   0,   0,   0,   0,   0,\n",
              "           0,   0,   0,   0],\n",
              "        [  0,   0,   0,   0,   0,   0,   0,   0,   0,  14,   1, 154,\n",
              "         253,  90,   0,   0,   0,   0,   0,   0,   0,   0,   0,   0,\n",
              "           0,   0,   0,   0],\n",
              "        [  0,   0,   0,   0,   0,   0,   0,   0,   0,   0,   0, 139,\n",
              "         253, 190,   2,   0,   0,   0,   0,   0,   0,   0,   0,   0,\n",
              "           0,   0,   0,   0],\n",
              "        [  0,   0,   0,   0,   0,   0,   0,   0,   0,   0,   0,  11,\n",
              "         190, 253,  70,   0,   0,   0,   0,   0,   0,   0,   0,   0,\n",
              "           0,   0,   0,   0],\n",
              "        [  0,   0,   0,   0,   0,   0,   0,   0,   0,   0,   0,   0,\n",
              "          35, 241, 225, 160, 108,   1,   0,   0,   0,   0,   0,   0,\n",
              "           0,   0,   0,   0],\n",
              "        [  0,   0,   0,   0,   0,   0,   0,   0,   0,   0,   0,   0,\n",
              "           0,  81, 240, 253, 253, 119,  25,   0,   0,   0,   0,   0,\n",
              "           0,   0,   0,   0],\n",
              "        [  0,   0,   0,   0,   0,   0,   0,   0,   0,   0,   0,   0,\n",
              "           0,   0,  45, 186, 253, 253, 150,  27,   0,   0,   0,   0,\n",
              "           0,   0,   0,   0],\n",
              "        [  0,   0,   0,   0,   0,   0,   0,   0,   0,   0,   0,   0,\n",
              "           0,   0,   0,  16,  93, 252, 253, 187,   0,   0,   0,   0,\n",
              "           0,   0,   0,   0],\n",
              "        [  0,   0,   0,   0,   0,   0,   0,   0,   0,   0,   0,   0,\n",
              "           0,   0,   0,   0,   0, 249, 253, 249,  64,   0,   0,   0,\n",
              "           0,   0,   0,   0],\n",
              "        [  0,   0,   0,   0,   0,   0,   0,   0,   0,   0,   0,   0,\n",
              "           0,   0,  46, 130, 183, 253, 253, 207,   2,   0,   0,   0,\n",
              "           0,   0,   0,   0],\n",
              "        [  0,   0,   0,   0,   0,   0,   0,   0,   0,   0,   0,   0,\n",
              "          39, 148, 229, 253, 253, 253, 250, 182,   0,   0,   0,   0,\n",
              "           0,   0,   0,   0],\n",
              "        [  0,   0,   0,   0,   0,   0,   0,   0,   0,   0,  24, 114,\n",
              "         221, 253, 253, 253, 253, 201,  78,   0,   0,   0,   0,   0,\n",
              "           0,   0,   0,   0],\n",
              "        [  0,   0,   0,   0,   0,   0,   0,   0,  23,  66, 213, 253,\n",
              "         253, 253, 253, 198,  81,   2,   0,   0,   0,   0,   0,   0,\n",
              "           0,   0,   0,   0],\n",
              "        [  0,   0,   0,   0,   0,   0,  18, 171, 219, 253, 253, 253,\n",
              "         253, 195,  80,   9,   0,   0,   0,   0,   0,   0,   0,   0,\n",
              "           0,   0,   0,   0],\n",
              "        [  0,   0,   0,   0,  55, 172, 226, 253, 253, 253, 253, 244,\n",
              "         133,  11,   0,   0,   0,   0,   0,   0,   0,   0,   0,   0,\n",
              "           0,   0,   0,   0],\n",
              "        [  0,   0,   0,   0, 136, 253, 253, 253, 212, 135, 132,  16,\n",
              "           0,   0,   0,   0,   0,   0,   0,   0,   0,   0,   0,   0,\n",
              "           0,   0,   0,   0],\n",
              "        [  0,   0,   0,   0,   0,   0,   0,   0,   0,   0,   0,   0,\n",
              "           0,   0,   0,   0,   0,   0,   0,   0,   0,   0,   0,   0,\n",
              "           0,   0,   0,   0],\n",
              "        [  0,   0,   0,   0,   0,   0,   0,   0,   0,   0,   0,   0,\n",
              "           0,   0,   0,   0,   0,   0,   0,   0,   0,   0,   0,   0,\n",
              "           0,   0,   0,   0],\n",
              "        [  0,   0,   0,   0,   0,   0,   0,   0,   0,   0,   0,   0,\n",
              "           0,   0,   0,   0,   0,   0,   0,   0,   0,   0,   0,   0,\n",
              "           0,   0,   0,   0]]], dtype=uint8)"
            ]
          },
          "metadata": {
            "tags": []
          },
          "execution_count": 36
        }
      ]
    },
    {
      "cell_type": "code",
      "metadata": {
        "id": "GtR5wBlF6bK7",
        "colab_type": "code",
        "colab": {
          "base_uri": "https://localhost:8080/",
          "height": 369
        },
        "outputId": "372c0900-f84b-4cf0-a073-fece96838576"
      },
      "source": [
        "plt.figure(figsize=(5,5))\n",
        "for k in range(16):\n",
        "    plt.subplot(4, 4, k+1)\n",
        "    plt.imshow(X_train[k], cmap='Greys')\n",
        "    plt.axis('off')\n",
        "plt.tight_layout()\n",
        "plt.show()"
      ],
      "execution_count": 37,
      "outputs": [
        {
          "output_type": "display_data",
          "data": {
            "image/png": "[encoded data removed]",
            "text/plain": [
              "<Figure size 360x360 with 16 Axes>"
            ]
          },
          "metadata": {
            "tags": [],
            "needs_background": "light"
          }
        }
      ]
    },
    {
      "cell_type": "code",
      "metadata": {
        "id": "VJ94JU1k6bLC",
        "colab_type": "code",
        "colab": {
          "base_uri": "https://localhost:8080/",
          "height": 34
        },
        "outputId": "008b82a8-cfd6-45b8-9dd4-52d9fba37548"
      },
      "source": [
        "X_valid.shape"
      ],
      "execution_count": 38,
      "outputs": [
        {
          "output_type": "execute_result",
          "data": {
            "text/plain": [
              "(10000, 28, 28)"
            ]
          },
          "metadata": {
            "tags": []
          },
          "execution_count": 38
        }
      ]
    },
    {
      "cell_type": "code",
      "metadata": {
        "id": "-_-KI2R36bLG",
        "colab_type": "code",
        "colab": {
          "base_uri": "https://localhost:8080/",
          "height": 34
        },
        "outputId": "dde95e02-ee81-4e95-bf33-0b5615b31fc7"
      },
      "source": [
        "y_valid.shape"
      ],
      "execution_count": 39,
      "outputs": [
        {
          "output_type": "execute_result",
          "data": {
            "text/plain": [
              "(10000,)"
            ]
          },
          "metadata": {
            "tags": []
          },
          "execution_count": 39
        }
      ]
    },
    {
      "cell_type": "code",
      "metadata": {
        "id": "xt-PO71f6bLI",
        "colab_type": "code",
        "colab": {
          "base_uri": "https://localhost:8080/",
          "height": 282
        },
        "outputId": "6593df4b-e996-410f-deeb-32a4c4f89f90"
      },
      "source": [
        "plt.imshow(X_valid[0], cmap='Greys')"
      ],
      "execution_count": 40,
      "outputs": [
        {
          "output_type": "execute_result",
          "data": {
            "text/plain": [
              "<matplotlib.image.AxesImage at 0x7f6675d6be48>"
            ]
          },
          "metadata": {
            "tags": []
          },
          "execution_count": 40
        },
        {
          "output_type": "display_data",
          "data": {
            "image/png": "[encoded data removed]",
            "text/plain": [
              "<Figure size 432x288 with 1 Axes>"
            ]
          },
          "metadata": {
            "tags": [],
            "needs_background": "light"
          }
        }
      ]
    },
    {
      "cell_type": "code",
      "metadata": {
        "id": "xGc03_QS6bLL",
        "colab_type": "code",
        "colab": {
          "base_uri": "https://localhost:8080/",
          "height": 1000
        },
        "outputId": "fdd2d5f2-58da-4b72-9308-1b95a781513d"
      },
      "source": [
        "X_valid[0]"
      ],
      "execution_count": 41,
      "outputs": [
        {
          "output_type": "execute_result",
          "data": {
            "text/plain": [
              "array([[  0,   0,   0,   0,   0,   0,   0,   0,   0,   0,   0,   0,   0,\n",
              "          0,   0,   0,   0,   0,   0,   0,   0,   0,   0,   0,   0,   0,\n",
              "          0,   0],\n",
              "       [  0,   0,   0,   0,   0,   0,   0,   0,   0,   0,   0,   0,   0,\n",
              "          0,   0,   0,   0,   0,   0,   0,   0,   0,   0,   0,   0,   0,\n",
              "          0,   0],\n",
              "       [  0,   0,   0,   0,   0,   0,   0,   0,   0,   0,   0,   0,   0,\n",
              "          0,   0,   0,   0,   0,   0,   0,   0,   0,   0,   0,   0,   0,\n",
              "          0,   0],\n",
              "       [  0,   0,   0,   0,   0,   0,   0,   0,   0,   0,   0,   0,   0,\n",
              "          0,   0,   0,   0,   0,   0,   0,   0,   0,   0,   0,   0,   0,\n",
              "          0,   0],\n",
              "       [  0,   0,   0,   0,   0,   0,   0,   0,   0,   0,   0,   0,   0,\n",
              "          0,   0,   0,   0,   0,   0,   0,   0,   0,   0,   0,   0,   0,\n",
              "          0,   0],\n",
              "       [  0,   0,   0,   0,   0,   0,   0,   0,   0,   0,   0,   0,   0,\n",
              "          0,   0,   0,   0,   0,   0,   0,   0,   0,   0,   0,   0,   0,\n",
              "          0,   0],\n",
              "       [  0,   0,   0,   0,   0,   0,   0,   0,   0,   0,   0,   0,   0,\n",
              "          0,   0,   0,   0,   0,   0,   0,   0,   0,   0,   0,   0,   0,\n",
              "          0,   0],\n",
              "       [  0,   0,   0,   0,   0,   0,  84, 185, 159, 151,  60,  36,   0,\n",
              "          0,   0,   0,   0,   0,   0,   0,   0,   0,   0,   0,   0,   0,\n",
              "          0,   0],\n",
              "       [  0,   0,   0,   0,   0,   0, 222, 254, 254, 254, 254, 241, 198,\n",
              "        198, 198, 198, 198, 198, 198, 198, 170,  52,   0,   0,   0,   0,\n",
              "          0,   0],\n",
              "       [  0,   0,   0,   0,   0,   0,  67, 114,  72, 114, 163, 227, 254,\n",
              "        225, 254, 254, 254, 250, 229, 254, 254, 140,   0,   0,   0,   0,\n",
              "          0,   0],\n",
              "       [  0,   0,   0,   0,   0,   0,   0,   0,   0,   0,   0,  17,  66,\n",
              "         14,  67,  67,  67,  59,  21, 236, 254, 106,   0,   0,   0,   0,\n",
              "          0,   0],\n",
              "       [  0,   0,   0,   0,   0,   0,   0,   0,   0,   0,   0,   0,   0,\n",
              "          0,   0,   0,   0,   0,  83, 253, 209,  18,   0,   0,   0,   0,\n",
              "          0,   0],\n",
              "       [  0,   0,   0,   0,   0,   0,   0,   0,   0,   0,   0,   0,   0,\n",
              "          0,   0,   0,   0,  22, 233, 255,  83,   0,   0,   0,   0,   0,\n",
              "          0,   0],\n",
              "       [  0,   0,   0,   0,   0,   0,   0,   0,   0,   0,   0,   0,   0,\n",
              "          0,   0,   0,   0, 129, 254, 238,  44,   0,   0,   0,   0,   0,\n",
              "          0,   0],\n",
              "       [  0,   0,   0,   0,   0,   0,   0,   0,   0,   0,   0,   0,   0,\n",
              "          0,   0,   0,  59, 249, 254,  62,   0,   0,   0,   0,   0,   0,\n",
              "          0,   0],\n",
              "       [  0,   0,   0,   0,   0,   0,   0,   0,   0,   0,   0,   0,   0,\n",
              "          0,   0,   0, 133, 254, 187,   5,   0,   0,   0,   0,   0,   0,\n",
              "          0,   0],\n",
              "       [  0,   0,   0,   0,   0,   0,   0,   0,   0,   0,   0,   0,   0,\n",
              "          0,   0,   9, 205, 248,  58,   0,   0,   0,   0,   0,   0,   0,\n",
              "          0,   0],\n",
              "       [  0,   0,   0,   0,   0,   0,   0,   0,   0,   0,   0,   0,   0,\n",
              "          0,   0, 126, 254, 182,   0,   0,   0,   0,   0,   0,   0,   0,\n",
              "          0,   0],\n",
              "       [  0,   0,   0,   0,   0,   0,   0,   0,   0,   0,   0,   0,   0,\n",
              "          0,  75, 251, 240,  57,   0,   0,   0,   0,   0,   0,   0,   0,\n",
              "          0,   0],\n",
              "       [  0,   0,   0,   0,   0,   0,   0,   0,   0,   0,   0,   0,   0,\n",
              "         19, 221, 254, 166,   0,   0,   0,   0,   0,   0,   0,   0,   0,\n",
              "          0,   0],\n",
              "       [  0,   0,   0,   0,   0,   0,   0,   0,   0,   0,   0,   0,   3,\n",
              "        203, 254, 219,  35,   0,   0,   0,   0,   0,   0,   0,   0,   0,\n",
              "          0,   0],\n",
              "       [  0,   0,   0,   0,   0,   0,   0,   0,   0,   0,   0,   0,  38,\n",
              "        254, 254,  77,   0,   0,   0,   0,   0,   0,   0,   0,   0,   0,\n",
              "          0,   0],\n",
              "       [  0,   0,   0,   0,   0,   0,   0,   0,   0,   0,   0,  31, 224,\n",
              "        254, 115,   1,   0,   0,   0,   0,   0,   0,   0,   0,   0,   0,\n",
              "          0,   0],\n",
              "       [  0,   0,   0,   0,   0,   0,   0,   0,   0,   0,   0, 133, 254,\n",
              "        254,  52,   0,   0,   0,   0,   0,   0,   0,   0,   0,   0,   0,\n",
              "          0,   0],\n",
              "       [  0,   0,   0,   0,   0,   0,   0,   0,   0,   0,  61, 242, 254,\n",
              "        254,  52,   0,   0,   0,   0,   0,   0,   0,   0,   0,   0,   0,\n",
              "          0,   0],\n",
              "       [  0,   0,   0,   0,   0,   0,   0,   0,   0,   0, 121, 254, 254,\n",
              "        219,  40,   0,   0,   0,   0,   0,   0,   0,   0,   0,   0,   0,\n",
              "          0,   0],\n",
              "       [  0,   0,   0,   0,   0,   0,   0,   0,   0,   0, 121, 254, 207,\n",
              "         18,   0,   0,   0,   0,   0,   0,   0,   0,   0,   0,   0,   0,\n",
              "          0,   0],\n",
              "       [  0,   0,   0,   0,   0,   0,   0,   0,   0,   0,   0,   0,   0,\n",
              "          0,   0,   0,   0,   0,   0,   0,   0,   0,   0,   0,   0,   0,\n",
              "          0,   0]], dtype=uint8)"
            ]
          },
          "metadata": {
            "tags": []
          },
          "execution_count": 41
        }
      ]
    },
    {
      "cell_type": "code",
      "metadata": {
        "id": "5vaiAlAM6bLO",
        "colab_type": "code",
        "colab": {
          "base_uri": "https://localhost:8080/",
          "height": 34
        },
        "outputId": "de8c9ddc-5d98-4c1e-8a66-c615d1a2d4df"
      },
      "source": [
        "y_valid[0]"
      ],
      "execution_count": 42,
      "outputs": [
        {
          "output_type": "execute_result",
          "data": {
            "text/plain": [
              "7"
            ]
          },
          "metadata": {
            "tags": []
          },
          "execution_count": 42
        }
      ]
    },
    {
      "cell_type": "markdown",
      "metadata": {
        "id": "Edtakd-G6bLS",
        "colab_type": "text"
      },
      "source": [
        "#### Preprocess data"
      ]
    },
    {
      "cell_type": "code",
      "metadata": {
        "id": "ZxWgiWEG6bLU",
        "colab_type": "code",
        "colab": {}
      },
      "source": [
        "X_train = X_train.reshape(60000, 784).astype('float32')\n",
        "X_valid = X_valid.reshape(10000, 784).astype('float32')"
      ],
      "execution_count": 0,
      "outputs": []
    },
    {
      "cell_type": "code",
      "metadata": {
        "id": "OlJ4grlg__Y4",
        "colab_type": "code",
        "colab": {
          "base_uri": "https://localhost:8080/",
          "height": 1000
        },
        "outputId": "4b2f3e9e-5f1a-40da-ffe8-233781fee4f1"
      },
      "source": [
        "X_train[0:1]"
      ],
      "execution_count": 44,
      "outputs": [
        {
          "output_type": "execute_result",
          "data": {
            "text/plain": [
              "array([[  0.,   0.,   0.,   0.,   0.,   0.,   0.,   0.,   0.,   0.,   0.,\n",
              "          0.,   0.,   0.,   0.,   0.,   0.,   0.,   0.,   0.,   0.,   0.,\n",
              "          0.,   0.,   0.,   0.,   0.,   0.,   0.,   0.,   0.,   0.,   0.,\n",
              "          0.,   0.,   0.,   0.,   0.,   0.,   0.,   0.,   0.,   0.,   0.,\n",
              "          0.,   0.,   0.,   0.,   0.,   0.,   0.,   0.,   0.,   0.,   0.,\n",
              "          0.,   0.,   0.,   0.,   0.,   0.,   0.,   0.,   0.,   0.,   0.,\n",
              "          0.,   0.,   0.,   0.,   0.,   0.,   0.,   0.,   0.,   0.,   0.,\n",
              "          0.,   0.,   0.,   0.,   0.,   0.,   0.,   0.,   0.,   0.,   0.,\n",
              "          0.,   0.,   0.,   0.,   0.,   0.,   0.,   0.,   0.,   0.,   0.,\n",
              "          0.,   0.,   0.,   0.,   0.,   0.,   0.,   0.,   0.,   0.,   0.,\n",
              "          0.,   0.,   0.,   0.,   0.,   0.,   0.,   0.,   0.,   0.,   0.,\n",
              "          0.,   0.,   0.,   0.,   0.,   0.,   0.,   0.,   0.,   0.,   0.,\n",
              "          0.,   0.,   0.,   0.,   0.,   0.,   0.,   0.,   0.,   0.,   0.,\n",
              "          0.,   0.,   0.,   0.,   0.,   0.,   0.,   0.,   0.,   3.,  18.,\n",
              "         18.,  18., 126., 136., 175.,  26., 166., 255., 247., 127.,   0.,\n",
              "          0.,   0.,   0.,   0.,   0.,   0.,   0.,   0.,   0.,   0.,   0.,\n",
              "         30.,  36.,  94., 154., 170., 253., 253., 253., 253., 253., 225.,\n",
              "        172., 253., 242., 195.,  64.,   0.,   0.,   0.,   0.,   0.,   0.,\n",
              "          0.,   0.,   0.,   0.,   0.,  49., 238., 253., 253., 253., 253.,\n",
              "        253., 253., 253., 253., 251.,  93.,  82.,  82.,  56.,  39.,   0.,\n",
              "          0.,   0.,   0.,   0.,   0.,   0.,   0.,   0.,   0.,   0.,   0.,\n",
              "         18., 219., 253., 253., 253., 253., 253., 198., 182., 247., 241.,\n",
              "          0.,   0.,   0.,   0.,   0.,   0.,   0.,   0.,   0.,   0.,   0.,\n",
              "          0.,   0.,   0.,   0.,   0.,   0.,   0.,  80., 156., 107., 253.,\n",
              "        253., 205.,  11.,   0.,  43., 154.,   0.,   0.,   0.,   0.,   0.,\n",
              "          0.,   0.,   0.,   0.,   0.,   0.,   0.,   0.,   0.,   0.,   0.,\n",
              "          0.,   0.,   0.,  14.,   1., 154., 253.,  90.,   0.,   0.,   0.,\n",
              "          0.,   0.,   0.,   0.,   0.,   0.,   0.,   0.,   0.,   0.,   0.,\n",
              "          0.,   0.,   0.,   0.,   0.,   0.,   0.,   0.,   0.,   0.,   0.,\n",
              "        139., 253., 190.,   2.,   0.,   0.,   0.,   0.,   0.,   0.,   0.,\n",
              "          0.,   0.,   0.,   0.,   0.,   0.,   0.,   0.,   0.,   0.,   0.,\n",
              "          0.,   0.,   0.,   0.,   0.,   0.,  11., 190., 253.,  70.,   0.,\n",
              "          0.,   0.,   0.,   0.,   0.,   0.,   0.,   0.,   0.,   0.,   0.,\n",
              "          0.,   0.,   0.,   0.,   0.,   0.,   0.,   0.,   0.,   0.,   0.,\n",
              "          0.,   0.,  35., 241., 225., 160., 108.,   1.,   0.,   0.,   0.,\n",
              "          0.,   0.,   0.,   0.,   0.,   0.,   0.,   0.,   0.,   0.,   0.,\n",
              "          0.,   0.,   0.,   0.,   0.,   0.,   0.,   0.,   0.,  81., 240.,\n",
              "        253., 253., 119.,  25.,   0.,   0.,   0.,   0.,   0.,   0.,   0.,\n",
              "          0.,   0.,   0.,   0.,   0.,   0.,   0.,   0.,   0.,   0.,   0.,\n",
              "          0.,   0.,   0.,   0.,   0.,  45., 186., 253., 253., 150.,  27.,\n",
              "          0.,   0.,   0.,   0.,   0.,   0.,   0.,   0.,   0.,   0.,   0.,\n",
              "          0.,   0.,   0.,   0.,   0.,   0.,   0.,   0.,   0.,   0.,   0.,\n",
              "          0.,  16.,  93., 252., 253., 187.,   0.,   0.,   0.,   0.,   0.,\n",
              "          0.,   0.,   0.,   0.,   0.,   0.,   0.,   0.,   0.,   0.,   0.,\n",
              "          0.,   0.,   0.,   0.,   0.,   0.,   0.,   0.,   0., 249., 253.,\n",
              "        249.,  64.,   0.,   0.,   0.,   0.,   0.,   0.,   0.,   0.,   0.,\n",
              "          0.,   0.,   0.,   0.,   0.,   0.,   0.,   0.,   0.,   0.,   0.,\n",
              "          0.,  46., 130., 183., 253., 253., 207.,   2.,   0.,   0.,   0.,\n",
              "          0.,   0.,   0.,   0.,   0.,   0.,   0.,   0.,   0.,   0.,   0.,\n",
              "          0.,   0.,   0.,   0.,   0.,  39., 148., 229., 253., 253., 253.,\n",
              "        250., 182.,   0.,   0.,   0.,   0.,   0.,   0.,   0.,   0.,   0.,\n",
              "          0.,   0.,   0.,   0.,   0.,   0.,   0.,   0.,   0.,  24., 114.,\n",
              "        221., 253., 253., 253., 253., 201.,  78.,   0.,   0.,   0.,   0.,\n",
              "          0.,   0.,   0.,   0.,   0.,   0.,   0.,   0.,   0.,   0.,   0.,\n",
              "          0.,   0.,  23.,  66., 213., 253., 253., 253., 253., 198.,  81.,\n",
              "          2.,   0.,   0.,   0.,   0.,   0.,   0.,   0.,   0.,   0.,   0.,\n",
              "          0.,   0.,   0.,   0.,   0.,   0.,  18., 171., 219., 253., 253.,\n",
              "        253., 253., 195.,  80.,   9.,   0.,   0.,   0.,   0.,   0.,   0.,\n",
              "          0.,   0.,   0.,   0.,   0.,   0.,   0.,   0.,   0.,   0.,  55.,\n",
              "        172., 226., 253., 253., 253., 253., 244., 133.,  11.,   0.,   0.,\n",
              "          0.,   0.,   0.,   0.,   0.,   0.,   0.,   0.,   0.,   0.,   0.,\n",
              "          0.,   0.,   0.,   0.,   0., 136., 253., 253., 253., 212., 135.,\n",
              "        132.,  16.,   0.,   0.,   0.,   0.,   0.,   0.,   0.,   0.,   0.,\n",
              "          0.,   0.,   0.,   0.,   0.,   0.,   0.,   0.,   0.,   0.,   0.,\n",
              "          0.,   0.,   0.,   0.,   0.,   0.,   0.,   0.,   0.,   0.,   0.,\n",
              "          0.,   0.,   0.,   0.,   0.,   0.,   0.,   0.,   0.,   0.,   0.,\n",
              "          0.,   0.,   0.,   0.,   0.,   0.,   0.,   0.,   0.,   0.,   0.,\n",
              "          0.,   0.,   0.,   0.,   0.,   0.,   0.,   0.,   0.,   0.,   0.,\n",
              "          0.,   0.,   0.,   0.,   0.,   0.,   0.,   0.,   0.,   0.,   0.,\n",
              "          0.,   0.,   0.,   0.,   0.,   0.,   0.,   0.,   0.,   0.,   0.,\n",
              "          0.,   0.,   0.,   0.,   0.,   0.,   0.,   0.,   0.,   0.,   0.,\n",
              "          0.,   0.,   0.]], dtype=float32)"
            ]
          },
          "metadata": {
            "tags": []
          },
          "execution_count": 44
        }
      ]
    },
    {
      "cell_type": "code",
      "metadata": {
        "id": "EdU9TrxY6bLX",
        "colab_type": "code",
        "colab": {}
      },
      "source": [
        "X_train /= 255\n",
        "X_valid /= 255"
      ],
      "execution_count": 0,
      "outputs": []
    },
    {
      "cell_type": "code",
      "metadata": {
        "id": "jNnQMMhD6bLZ",
        "colab_type": "code",
        "colab": {
          "base_uri": "https://localhost:8080/",
          "height": 1000
        },
        "outputId": "0f0c24fb-4e00-4efb-91ce-0130e21f3ee0"
      },
      "source": [
        "X_valid[0]"
      ],
      "execution_count": 46,
      "outputs": [
        {
          "output_type": "execute_result",
          "data": {
            "text/plain": [
              "array([0.        , 0.        , 0.        , 0.        , 0.        ,\n",
              "       0.        , 0.        , 0.        , 0.        , 0.        ,\n",
              "       0.        , 0.        , 0.        , 0.        , 0.        ,\n",
              "       0.        , 0.        , 0.        , 0.        , 0.        ,\n",
              "       0.        , 0.        , 0.        , 0.        , 0.        ,\n",
              "       0.        , 0.        , 0.        , 0.        , 0.        ,\n",
              "       0.        , 0.        , 0.        , 0.        , 0.        ,\n",
              "       0.        , 0.        , 0.        , 0.        , 0.        ,\n",
              "       0.        , 0.        , 0.        , 0.        , 0.        ,\n",
              "       0.        , 0.        , 0.        , 0.        , 0.        ,\n",
              "       0.        , 0.        , 0.        , 0.        , 0.        ,\n",
              "       0.        , 0.        , 0.        , 0.        , 0.        ,\n",
              "       0.        , 0.        , 0.        , 0.        , 0.        ,\n",
              "       0.        , 0.        , 0.        , 0.        , 0.        ,\n",
              "       0.        , 0.        , 0.        , 0.        , 0.        ,\n",
              "       0.        , 0.        , 0.        , 0.        , 0.        ,\n",
              "       0.        , 0.        , 0.        , 0.        , 0.        ,\n",
              "       0.        , 0.        , 0.        , 0.        , 0.        ,\n",
              "       0.        , 0.        , 0.        , 0.        , 0.        ,\n",
              "       0.        , 0.        , 0.        , 0.        , 0.        ,\n",
              "       0.        , 0.        , 0.        , 0.        , 0.        ,\n",
              "       0.        , 0.        , 0.        , 0.        , 0.        ,\n",
              "       0.        , 0.        , 0.        , 0.        , 0.        ,\n",
              "       0.        , 0.        , 0.        , 0.        , 0.        ,\n",
              "       0.        , 0.        , 0.        , 0.        , 0.        ,\n",
              "       0.        , 0.        , 0.        , 0.        , 0.        ,\n",
              "       0.        , 0.        , 0.        , 0.        , 0.        ,\n",
              "       0.        , 0.        , 0.        , 0.        , 0.        ,\n",
              "       0.        , 0.        , 0.        , 0.        , 0.        ,\n",
              "       0.        , 0.        , 0.        , 0.        , 0.        ,\n",
              "       0.        , 0.        , 0.        , 0.        , 0.        ,\n",
              "       0.        , 0.        , 0.        , 0.        , 0.        ,\n",
              "       0.        , 0.        , 0.        , 0.        , 0.        ,\n",
              "       0.        , 0.        , 0.        , 0.        , 0.        ,\n",
              "       0.        , 0.        , 0.        , 0.        , 0.        ,\n",
              "       0.        , 0.        , 0.        , 0.        , 0.        ,\n",
              "       0.        , 0.        , 0.        , 0.        , 0.        ,\n",
              "       0.        , 0.        , 0.        , 0.        , 0.        ,\n",
              "       0.        , 0.        , 0.        , 0.        , 0.        ,\n",
              "       0.        , 0.        , 0.        , 0.        , 0.        ,\n",
              "       0.        , 0.        , 0.32941177, 0.7254902 , 0.62352943,\n",
              "       0.5921569 , 0.23529412, 0.14117648, 0.        , 0.        ,\n",
              "       0.        , 0.        , 0.        , 0.        , 0.        ,\n",
              "       0.        , 0.        , 0.        , 0.        , 0.        ,\n",
              "       0.        , 0.        , 0.        , 0.        , 0.        ,\n",
              "       0.        , 0.        , 0.        , 0.        , 0.        ,\n",
              "       0.87058824, 0.99607843, 0.99607843, 0.99607843, 0.99607843,\n",
              "       0.94509804, 0.7764706 , 0.7764706 , 0.7764706 , 0.7764706 ,\n",
              "       0.7764706 , 0.7764706 , 0.7764706 , 0.7764706 , 0.6666667 ,\n",
              "       0.20392157, 0.        , 0.        , 0.        , 0.        ,\n",
              "       0.        , 0.        , 0.        , 0.        , 0.        ,\n",
              "       0.        , 0.        , 0.        , 0.2627451 , 0.44705883,\n",
              "       0.28235295, 0.44705883, 0.6392157 , 0.8901961 , 0.99607843,\n",
              "       0.88235295, 0.99607843, 0.99607843, 0.99607843, 0.98039216,\n",
              "       0.8980392 , 0.99607843, 0.99607843, 0.54901963, 0.        ,\n",
              "       0.        , 0.        , 0.        , 0.        , 0.        ,\n",
              "       0.        , 0.        , 0.        , 0.        , 0.        ,\n",
              "       0.        , 0.        , 0.        , 0.        , 0.        ,\n",
              "       0.        , 0.06666667, 0.25882354, 0.05490196, 0.2627451 ,\n",
              "       0.2627451 , 0.2627451 , 0.23137255, 0.08235294, 0.9254902 ,\n",
              "       0.99607843, 0.41568628, 0.        , 0.        , 0.        ,\n",
              "       0.        , 0.        , 0.        , 0.        , 0.        ,\n",
              "       0.        , 0.        , 0.        , 0.        , 0.        ,\n",
              "       0.        , 0.        , 0.        , 0.        , 0.        ,\n",
              "       0.        , 0.        , 0.        , 0.        , 0.        ,\n",
              "       0.        , 0.3254902 , 0.99215686, 0.81960785, 0.07058824,\n",
              "       0.        , 0.        , 0.        , 0.        , 0.        ,\n",
              "       0.        , 0.        , 0.        , 0.        , 0.        ,\n",
              "       0.        , 0.        , 0.        , 0.        , 0.        ,\n",
              "       0.        , 0.        , 0.        , 0.        , 0.        ,\n",
              "       0.        , 0.        , 0.        , 0.08627451, 0.9137255 ,\n",
              "       1.        , 0.3254902 , 0.        , 0.        , 0.        ,\n",
              "       0.        , 0.        , 0.        , 0.        , 0.        ,\n",
              "       0.        , 0.        , 0.        , 0.        , 0.        ,\n",
              "       0.        , 0.        , 0.        , 0.        , 0.        ,\n",
              "       0.        , 0.        , 0.        , 0.        , 0.        ,\n",
              "       0.        , 0.5058824 , 0.99607843, 0.93333334, 0.17254902,\n",
              "       0.        , 0.        , 0.        , 0.        , 0.        ,\n",
              "       0.        , 0.        , 0.        , 0.        , 0.        ,\n",
              "       0.        , 0.        , 0.        , 0.        , 0.        ,\n",
              "       0.        , 0.        , 0.        , 0.        , 0.        ,\n",
              "       0.        , 0.        , 0.        , 0.23137255, 0.9764706 ,\n",
              "       0.99607843, 0.24313726, 0.        , 0.        , 0.        ,\n",
              "       0.        , 0.        , 0.        , 0.        , 0.        ,\n",
              "       0.        , 0.        , 0.        , 0.        , 0.        ,\n",
              "       0.        , 0.        , 0.        , 0.        , 0.        ,\n",
              "       0.        , 0.        , 0.        , 0.        , 0.        ,\n",
              "       0.        , 0.52156866, 0.99607843, 0.73333335, 0.01960784,\n",
              "       0.        , 0.        , 0.        , 0.        , 0.        ,\n",
              "       0.        , 0.        , 0.        , 0.        , 0.        ,\n",
              "       0.        , 0.        , 0.        , 0.        , 0.        ,\n",
              "       0.        , 0.        , 0.        , 0.        , 0.        ,\n",
              "       0.        , 0.        , 0.        , 0.03529412, 0.8039216 ,\n",
              "       0.972549  , 0.22745098, 0.        , 0.        , 0.        ,\n",
              "       0.        , 0.        , 0.        , 0.        , 0.        ,\n",
              "       0.        , 0.        , 0.        , 0.        , 0.        ,\n",
              "       0.        , 0.        , 0.        , 0.        , 0.        ,\n",
              "       0.        , 0.        , 0.        , 0.        , 0.        ,\n",
              "       0.        , 0.49411765, 0.99607843, 0.7137255 , 0.        ,\n",
              "       0.        , 0.        , 0.        , 0.        , 0.        ,\n",
              "       0.        , 0.        , 0.        , 0.        , 0.        ,\n",
              "       0.        , 0.        , 0.        , 0.        , 0.        ,\n",
              "       0.        , 0.        , 0.        , 0.        , 0.        ,\n",
              "       0.        , 0.        , 0.        , 0.29411766, 0.9843137 ,\n",
              "       0.9411765 , 0.22352941, 0.        , 0.        , 0.        ,\n",
              "       0.        , 0.        , 0.        , 0.        , 0.        ,\n",
              "       0.        , 0.        , 0.        , 0.        , 0.        ,\n",
              "       0.        , 0.        , 0.        , 0.        , 0.        ,\n",
              "       0.        , 0.        , 0.        , 0.        , 0.        ,\n",
              "       0.07450981, 0.8666667 , 0.99607843, 0.6509804 , 0.        ,\n",
              "       0.        , 0.        , 0.        , 0.        , 0.        ,\n",
              "       0.        , 0.        , 0.        , 0.        , 0.        ,\n",
              "       0.        , 0.        , 0.        , 0.        , 0.        ,\n",
              "       0.        , 0.        , 0.        , 0.        , 0.        ,\n",
              "       0.        , 0.        , 0.01176471, 0.79607844, 0.99607843,\n",
              "       0.85882354, 0.13725491, 0.        , 0.        , 0.        ,\n",
              "       0.        , 0.        , 0.        , 0.        , 0.        ,\n",
              "       0.        , 0.        , 0.        , 0.        , 0.        ,\n",
              "       0.        , 0.        , 0.        , 0.        , 0.        ,\n",
              "       0.        , 0.        , 0.        , 0.        , 0.        ,\n",
              "       0.14901961, 0.99607843, 0.99607843, 0.3019608 , 0.        ,\n",
              "       0.        , 0.        , 0.        , 0.        , 0.        ,\n",
              "       0.        , 0.        , 0.        , 0.        , 0.        ,\n",
              "       0.        , 0.        , 0.        , 0.        , 0.        ,\n",
              "       0.        , 0.        , 0.        , 0.        , 0.        ,\n",
              "       0.        , 0.        , 0.12156863, 0.8784314 , 0.99607843,\n",
              "       0.4509804 , 0.00392157, 0.        , 0.        , 0.        ,\n",
              "       0.        , 0.        , 0.        , 0.        , 0.        ,\n",
              "       0.        , 0.        , 0.        , 0.        , 0.        ,\n",
              "       0.        , 0.        , 0.        , 0.        , 0.        ,\n",
              "       0.        , 0.        , 0.        , 0.        , 0.        ,\n",
              "       0.52156866, 0.99607843, 0.99607843, 0.20392157, 0.        ,\n",
              "       0.        , 0.        , 0.        , 0.        , 0.        ,\n",
              "       0.        , 0.        , 0.        , 0.        , 0.        ,\n",
              "       0.        , 0.        , 0.        , 0.        , 0.        ,\n",
              "       0.        , 0.        , 0.        , 0.        , 0.        ,\n",
              "       0.        , 0.        , 0.23921569, 0.9490196 , 0.99607843,\n",
              "       0.99607843, 0.20392157, 0.        , 0.        , 0.        ,\n",
              "       0.        , 0.        , 0.        , 0.        , 0.        ,\n",
              "       0.        , 0.        , 0.        , 0.        , 0.        ,\n",
              "       0.        , 0.        , 0.        , 0.        , 0.        ,\n",
              "       0.        , 0.        , 0.        , 0.        , 0.        ,\n",
              "       0.4745098 , 0.99607843, 0.99607843, 0.85882354, 0.15686275,\n",
              "       0.        , 0.        , 0.        , 0.        , 0.        ,\n",
              "       0.        , 0.        , 0.        , 0.        , 0.        ,\n",
              "       0.        , 0.        , 0.        , 0.        , 0.        ,\n",
              "       0.        , 0.        , 0.        , 0.        , 0.        ,\n",
              "       0.        , 0.        , 0.        , 0.4745098 , 0.99607843,\n",
              "       0.8117647 , 0.07058824, 0.        , 0.        , 0.        ,\n",
              "       0.        , 0.        , 0.        , 0.        , 0.        ,\n",
              "       0.        , 0.        , 0.        , 0.        , 0.        ,\n",
              "       0.        , 0.        , 0.        , 0.        , 0.        ,\n",
              "       0.        , 0.        , 0.        , 0.        , 0.        ,\n",
              "       0.        , 0.        , 0.        , 0.        , 0.        ,\n",
              "       0.        , 0.        , 0.        , 0.        , 0.        ,\n",
              "       0.        , 0.        , 0.        , 0.        , 0.        ,\n",
              "       0.        , 0.        , 0.        , 0.        ], dtype=float32)"
            ]
          },
          "metadata": {
            "tags": []
          },
          "execution_count": 46
        }
      ]
    },
    {
      "cell_type": "code",
      "metadata": {
        "id": "JV3y4mMw6bLb",
        "colab_type": "code",
        "colab": {}
      },
      "source": [
        "n_classes = 10\n",
        "y_train = to_categorical(y_train, n_classes)\n",
        "y_valid = to_categorical(y_valid, n_classes)"
      ],
      "execution_count": 0,
      "outputs": []
    },
    {
      "cell_type": "code",
      "metadata": {
        "id": "6cYEvxVz6bLf",
        "colab_type": "code",
        "colab": {
          "base_uri": "https://localhost:8080/",
          "height": 34
        },
        "outputId": "c7ecc6d8-2e37-4cf6-c2a1-69b23f383a65"
      },
      "source": [
        "y_valid[0]"
      ],
      "execution_count": 48,
      "outputs": [
        {
          "output_type": "execute_result",
          "data": {
            "text/plain": [
              "array([0., 0., 0., 0., 0., 0., 0., 1., 0., 0.], dtype=float32)"
            ]
          },
          "metadata": {
            "tags": []
          },
          "execution_count": 48
        }
      ]
    },
    {
      "cell_type": "markdown",
      "metadata": {
        "id": "v2qoAvmT6bLj",
        "colab_type": "text"
      },
      "source": [
        "#### Design neural network architecture"
      ]
    },
    {
      "cell_type": "code",
      "metadata": {
        "id": "SBxkXigh6bLk",
        "colab_type": "code",
        "colab": {}
      },
      "source": [
        "model = Sequential()\n",
        "model.add(Dense(64, activation='sigmoid', input_shape=(784,)))\n",
        "model.add(Dense(10, activation='softmax'))"
      ],
      "execution_count": 0,
      "outputs": []
    },
    {
      "cell_type": "code",
      "metadata": {
        "id": "R3hf2LJm6bLo",
        "colab_type": "code",
        "colab": {
          "base_uri": "https://localhost:8080/",
          "height": 221
        },
        "outputId": "b1ebc69b-9914-437a-c814-99686e6b6a44"
      },
      "source": [
        "model.summary()"
      ],
      "execution_count": 50,
      "outputs": [
        {
          "output_type": "stream",
          "text": [
            "Model: \"sequential_1\"\n",
            "_________________________________________________________________\n",
            "Layer (type)                 Output Shape              Param #   \n",
            "=================================================================\n",
            "dense_2 (Dense)              (None, 64)                50240     \n",
            "_________________________________________________________________\n",
            "dense_3 (Dense)              (None, 10)                650       \n",
            "=================================================================\n",
            "Total params: 50,890\n",
            "Trainable params: 50,890\n",
            "Non-trainable params: 0\n",
            "_________________________________________________________________\n"
          ],
          "name": "stdout"
        }
      ]
    },
    {
      "cell_type": "code",
      "metadata": {
        "id": "HxjQ-EoQ6bLq",
        "colab_type": "code",
        "colab": {
          "base_uri": "https://localhost:8080/",
          "height": 34
        },
        "outputId": "5bf4ecbf-c406-40fe-dc16-ee16990b7123"
      },
      "source": [
        "(64*784)"
      ],
      "execution_count": 51,
      "outputs": [
        {
          "output_type": "execute_result",
          "data": {
            "text/plain": [
              "50176"
            ]
          },
          "metadata": {
            "tags": []
          },
          "execution_count": 51
        }
      ]
    },
    {
      "cell_type": "code",
      "metadata": {
        "id": "r1mZD3U66bLs",
        "colab_type": "code",
        "colab": {
          "base_uri": "https://localhost:8080/",
          "height": 34
        },
        "outputId": "dd59bc8f-7734-4940-c64c-0a60b7b6ac10"
      },
      "source": [
        "(64*784)+64"
      ],
      "execution_count": 52,
      "outputs": [
        {
          "output_type": "execute_result",
          "data": {
            "text/plain": [
              "50240"
            ]
          },
          "metadata": {
            "tags": []
          },
          "execution_count": 52
        }
      ]
    },
    {
      "cell_type": "code",
      "metadata": {
        "id": "6hxaZlMj6bLu",
        "colab_type": "code",
        "colab": {
          "base_uri": "https://localhost:8080/",
          "height": 34
        },
        "outputId": "98e68353-4225-46a2-897d-dfce6a9223ab"
      },
      "source": [
        "(10*64)+10"
      ],
      "execution_count": 53,
      "outputs": [
        {
          "output_type": "execute_result",
          "data": {
            "text/plain": [
              "650"
            ]
          },
          "metadata": {
            "tags": []
          },
          "execution_count": 53
        }
      ]
    },
    {
      "cell_type": "markdown",
      "metadata": {
        "id": "SRE21TiT6bLw",
        "colab_type": "text"
      },
      "source": [
        "#### Configure model"
      ]
    },
    {
      "cell_type": "code",
      "metadata": {
        "id": "xbPtyWEZ6bLx",
        "colab_type": "code",
        "colab": {}
      },
      "source": [
        "model.compile(loss='mean_squared_error', optimizer=SGD(lr=0.01), metrics=['accuracy'])"
      ],
      "execution_count": 0,
      "outputs": []
    },
    {
      "cell_type": "markdown",
      "metadata": {
        "id": "OQP9XeJu6bLz",
        "colab_type": "text"
      },
      "source": [
        "#### Train!"
      ]
    },
    {
      "cell_type": "code",
      "metadata": {
        "id": "xfTdQJZz6bL0",
        "colab_type": "code",
        "colab": {
          "base_uri": "https://localhost:8080/",
          "height": 1000
        },
        "outputId": "0c3a4456-5c60-42ba-f8fd-38bba8951b72"
      },
      "source": [
        "model.fit(X_train, y_train, batch_size=128, epochs=200, verbose=1, validation_data=(X_valid, y_valid))"
      ],
      "execution_count": 23,
      "outputs": [
        {
          "output_type": "stream",
          "text": [
            "Epoch 1/200\n",
            "469/469 [==============================] - 1s 3ms/step - loss: 0.0924 - accuracy: 0.0874 - val_loss: 0.0917 - val_accuracy: 0.0923\n",
            "Epoch 2/200\n",
            "469/469 [==============================] - 1s 2ms/step - loss: 0.0913 - accuracy: 0.0971 - val_loss: 0.0908 - val_accuracy: 0.1096\n",
            "Epoch 3/200\n",
            "469/469 [==============================] - 1s 2ms/step - loss: 0.0905 - accuracy: 0.1238 - val_loss: 0.0902 - val_accuracy: 0.1480\n",
            "Epoch 4/200\n",
            "469/469 [==============================] - 1s 2ms/step - loss: 0.0900 - accuracy: 0.1643 - val_loss: 0.0897 - val_accuracy: 0.1885\n",
            "Epoch 5/200\n",
            "469/469 [==============================] - 1s 2ms/step - loss: 0.0895 - accuracy: 0.2027 - val_loss: 0.0893 - val_accuracy: 0.2246\n",
            "Epoch 6/200\n",
            "469/469 [==============================] - 1s 2ms/step - loss: 0.0891 - accuracy: 0.2365 - val_loss: 0.0889 - val_accuracy: 0.2553\n",
            "Epoch 7/200\n",
            "469/469 [==============================] - 1s 2ms/step - loss: 0.0888 - accuracy: 0.2646 - val_loss: 0.0885 - val_accuracy: 0.2818\n",
            "Epoch 8/200\n",
            "469/469 [==============================] - 1s 2ms/step - loss: 0.0884 - accuracy: 0.2879 - val_loss: 0.0882 - val_accuracy: 0.3035\n",
            "Epoch 9/200\n",
            "469/469 [==============================] - 1s 2ms/step - loss: 0.0881 - accuracy: 0.3087 - val_loss: 0.0879 - val_accuracy: 0.3201\n",
            "Epoch 10/200\n",
            "469/469 [==============================] - 1s 2ms/step - loss: 0.0878 - accuracy: 0.3255 - val_loss: 0.0875 - val_accuracy: 0.3361\n",
            "Epoch 11/200\n",
            "469/469 [==============================] - 1s 2ms/step - loss: 0.0875 - accuracy: 0.3382 - val_loss: 0.0872 - val_accuracy: 0.3494\n",
            "Epoch 12/200\n",
            "469/469 [==============================] - 1s 2ms/step - loss: 0.0872 - accuracy: 0.3491 - val_loss: 0.0869 - val_accuracy: 0.3593\n",
            "Epoch 13/200\n",
            "469/469 [==============================] - 1s 2ms/step - loss: 0.0868 - accuracy: 0.3580 - val_loss: 0.0866 - val_accuracy: 0.3665\n",
            "Epoch 14/200\n",
            "469/469 [==============================] - 1s 2ms/step - loss: 0.0865 - accuracy: 0.3648 - val_loss: 0.0862 - val_accuracy: 0.3729\n",
            "Epoch 15/200\n",
            "469/469 [==============================] - 1s 2ms/step - loss: 0.0862 - accuracy: 0.3705 - val_loss: 0.0859 - val_accuracy: 0.3792\n",
            "Epoch 16/200\n",
            "469/469 [==============================] - 1s 2ms/step - loss: 0.0859 - accuracy: 0.3754 - val_loss: 0.0856 - val_accuracy: 0.3843\n",
            "Epoch 17/200\n",
            "469/469 [==============================] - 1s 2ms/step - loss: 0.0855 - accuracy: 0.3795 - val_loss: 0.0852 - val_accuracy: 0.3889\n",
            "Epoch 18/200\n",
            "469/469 [==============================] - 1s 2ms/step - loss: 0.0852 - accuracy: 0.3828 - val_loss: 0.0848 - val_accuracy: 0.3936\n",
            "Epoch 19/200\n",
            "469/469 [==============================] - 1s 2ms/step - loss: 0.0848 - accuracy: 0.3874 - val_loss: 0.0845 - val_accuracy: 0.3979\n",
            "Epoch 20/200\n",
            "469/469 [==============================] - 1s 2ms/step - loss: 0.0844 - accuracy: 0.3904 - val_loss: 0.0841 - val_accuracy: 0.4013\n",
            "Epoch 21/200\n",
            "469/469 [==============================] - 1s 2ms/step - loss: 0.0841 - accuracy: 0.3932 - val_loss: 0.0837 - val_accuracy: 0.4054\n",
            "Epoch 22/200\n",
            "469/469 [==============================] - 1s 2ms/step - loss: 0.0837 - accuracy: 0.3973 - val_loss: 0.0833 - val_accuracy: 0.4105\n",
            "Epoch 23/200\n",
            "469/469 [==============================] - 1s 2ms/step - loss: 0.0833 - accuracy: 0.4005 - val_loss: 0.0829 - val_accuracy: 0.4156\n",
            "Epoch 24/200\n",
            "469/469 [==============================] - 1s 2ms/step - loss: 0.0829 - accuracy: 0.4045 - val_loss: 0.0825 - val_accuracy: 0.4187\n",
            "Epoch 25/200\n",
            "469/469 [==============================] - 1s 2ms/step - loss: 0.0824 - accuracy: 0.4087 - val_loss: 0.0820 - val_accuracy: 0.4218\n",
            "Epoch 26/200\n",
            "469/469 [==============================] - 1s 2ms/step - loss: 0.0820 - accuracy: 0.4120 - val_loss: 0.0816 - val_accuracy: 0.4248\n",
            "Epoch 27/200\n",
            "469/469 [==============================] - 1s 2ms/step - loss: 0.0816 - accuracy: 0.4168 - val_loss: 0.0812 - val_accuracy: 0.4301\n",
            "Epoch 28/200\n",
            "469/469 [==============================] - 1s 2ms/step - loss: 0.0811 - accuracy: 0.4214 - val_loss: 0.0807 - val_accuracy: 0.4345\n",
            "Epoch 29/200\n",
            "469/469 [==============================] - 1s 2ms/step - loss: 0.0807 - accuracy: 0.4270 - val_loss: 0.0802 - val_accuracy: 0.4415\n",
            "Epoch 30/200\n",
            "469/469 [==============================] - 1s 2ms/step - loss: 0.0802 - accuracy: 0.4330 - val_loss: 0.0798 - val_accuracy: 0.4480\n",
            "Epoch 31/200\n",
            "469/469 [==============================] - 1s 2ms/step - loss: 0.0798 - accuracy: 0.4381 - val_loss: 0.0793 - val_accuracy: 0.4534\n",
            "Epoch 32/200\n",
            "469/469 [==============================] - 1s 2ms/step - loss: 0.0793 - accuracy: 0.4450 - val_loss: 0.0788 - val_accuracy: 0.4596\n",
            "Epoch 33/200\n",
            "469/469 [==============================] - 1s 2ms/step - loss: 0.0788 - accuracy: 0.4514 - val_loss: 0.0783 - val_accuracy: 0.4666\n",
            "Epoch 34/200\n",
            "469/469 [==============================] - 1s 2ms/step - loss: 0.0783 - accuracy: 0.4585 - val_loss: 0.0778 - val_accuracy: 0.4718\n",
            "Epoch 35/200\n",
            "469/469 [==============================] - 1s 2ms/step - loss: 0.0778 - accuracy: 0.4650 - val_loss: 0.0773 - val_accuracy: 0.4806\n",
            "Epoch 36/200\n",
            "469/469 [==============================] - 1s 2ms/step - loss: 0.0774 - accuracy: 0.4735 - val_loss: 0.0768 - val_accuracy: 0.4858\n",
            "Epoch 37/200\n",
            "469/469 [==============================] - 1s 2ms/step - loss: 0.0769 - accuracy: 0.4801 - val_loss: 0.0763 - val_accuracy: 0.4940\n",
            "Epoch 38/200\n",
            "469/469 [==============================] - 1s 2ms/step - loss: 0.0764 - accuracy: 0.4875 - val_loss: 0.0758 - val_accuracy: 0.5002\n",
            "Epoch 39/200\n",
            "469/469 [==============================] - 1s 2ms/step - loss: 0.0759 - accuracy: 0.4965 - val_loss: 0.0753 - val_accuracy: 0.5067\n",
            "Epoch 40/200\n",
            "469/469 [==============================] - 1s 2ms/step - loss: 0.0753 - accuracy: 0.5038 - val_loss: 0.0748 - val_accuracy: 0.5130\n",
            "Epoch 41/200\n",
            "469/469 [==============================] - 1s 2ms/step - loss: 0.0748 - accuracy: 0.5118 - val_loss: 0.0743 - val_accuracy: 0.5198\n",
            "Epoch 42/200\n",
            "469/469 [==============================] - 1s 2ms/step - loss: 0.0743 - accuracy: 0.5181 - val_loss: 0.0737 - val_accuracy: 0.5281\n",
            "Epoch 43/200\n",
            "469/469 [==============================] - 1s 2ms/step - loss: 0.0738 - accuracy: 0.5254 - val_loss: 0.0732 - val_accuracy: 0.5356\n",
            "Epoch 44/200\n",
            "469/469 [==============================] - 1s 2ms/step - loss: 0.0733 - accuracy: 0.5330 - val_loss: 0.0727 - val_accuracy: 0.5414\n",
            "Epoch 45/200\n",
            "469/469 [==============================] - 1s 2ms/step - loss: 0.0728 - accuracy: 0.5391 - val_loss: 0.0721 - val_accuracy: 0.5489\n",
            "Epoch 46/200\n",
            "469/469 [==============================] - 1s 2ms/step - loss: 0.0722 - accuracy: 0.5464 - val_loss: 0.0716 - val_accuracy: 0.5554\n",
            "Epoch 47/200\n",
            "469/469 [==============================] - 1s 2ms/step - loss: 0.0717 - accuracy: 0.5517 - val_loss: 0.0711 - val_accuracy: 0.5603\n",
            "Epoch 48/200\n",
            "469/469 [==============================] - 1s 2ms/step - loss: 0.0712 - accuracy: 0.5570 - val_loss: 0.0705 - val_accuracy: 0.5669\n",
            "Epoch 49/200\n",
            "469/469 [==============================] - 1s 2ms/step - loss: 0.0707 - accuracy: 0.5628 - val_loss: 0.0700 - val_accuracy: 0.5721\n",
            "Epoch 50/200\n",
            "469/469 [==============================] - 1s 2ms/step - loss: 0.0701 - accuracy: 0.5685 - val_loss: 0.0695 - val_accuracy: 0.5779\n",
            "Epoch 51/200\n",
            "469/469 [==============================] - 1s 2ms/step - loss: 0.0696 - accuracy: 0.5734 - val_loss: 0.0689 - val_accuracy: 0.5816\n",
            "Epoch 52/200\n",
            "469/469 [==============================] - 1s 2ms/step - loss: 0.0691 - accuracy: 0.5784 - val_loss: 0.0684 - val_accuracy: 0.5861\n",
            "Epoch 53/200\n",
            "469/469 [==============================] - 1s 2ms/step - loss: 0.0685 - accuracy: 0.5829 - val_loss: 0.0678 - val_accuracy: 0.5911\n",
            "Epoch 54/200\n",
            "469/469 [==============================] - 1s 2ms/step - loss: 0.0680 - accuracy: 0.5876 - val_loss: 0.0673 - val_accuracy: 0.5945\n",
            "Epoch 55/200\n",
            "469/469 [==============================] - 1s 2ms/step - loss: 0.0675 - accuracy: 0.5919 - val_loss: 0.0668 - val_accuracy: 0.5974\n",
            "Epoch 56/200\n",
            "469/469 [==============================] - 1s 2ms/step - loss: 0.0669 - accuracy: 0.5952 - val_loss: 0.0662 - val_accuracy: 0.6010\n",
            "Epoch 57/200\n",
            "469/469 [==============================] - 1s 2ms/step - loss: 0.0664 - accuracy: 0.5989 - val_loss: 0.0657 - val_accuracy: 0.6045\n",
            "Epoch 58/200\n",
            "469/469 [==============================] - 1s 2ms/step - loss: 0.0659 - accuracy: 0.6024 - val_loss: 0.0652 - val_accuracy: 0.6089\n",
            "Epoch 59/200\n",
            "469/469 [==============================] - 1s 2ms/step - loss: 0.0653 - accuracy: 0.6058 - val_loss: 0.0646 - val_accuracy: 0.6116\n",
            "Epoch 60/200\n",
            "469/469 [==============================] - 1s 2ms/step - loss: 0.0648 - accuracy: 0.6092 - val_loss: 0.0641 - val_accuracy: 0.6156\n",
            "Epoch 61/200\n",
            "469/469 [==============================] - 1s 2ms/step - loss: 0.0643 - accuracy: 0.6126 - val_loss: 0.0635 - val_accuracy: 0.6191\n",
            "Epoch 62/200\n",
            "469/469 [==============================] - 1s 2ms/step - loss: 0.0638 - accuracy: 0.6157 - val_loss: 0.0630 - val_accuracy: 0.6209\n",
            "Epoch 63/200\n",
            "469/469 [==============================] - 1s 2ms/step - loss: 0.0632 - accuracy: 0.6184 - val_loss: 0.0625 - val_accuracy: 0.6250\n",
            "Epoch 64/200\n",
            "469/469 [==============================] - 1s 2ms/step - loss: 0.0627 - accuracy: 0.6214 - val_loss: 0.0620 - val_accuracy: 0.6278\n",
            "Epoch 65/200\n",
            "469/469 [==============================] - 1s 2ms/step - loss: 0.0622 - accuracy: 0.6250 - val_loss: 0.0614 - val_accuracy: 0.6310\n",
            "Epoch 66/200\n",
            "469/469 [==============================] - 1s 2ms/step - loss: 0.0617 - accuracy: 0.6279 - val_loss: 0.0609 - val_accuracy: 0.6343\n",
            "Epoch 67/200\n",
            "469/469 [==============================] - 1s 2ms/step - loss: 0.0612 - accuracy: 0.6314 - val_loss: 0.0604 - val_accuracy: 0.6367\n",
            "Epoch 68/200\n",
            "469/469 [==============================] - 1s 2ms/step - loss: 0.0607 - accuracy: 0.6346 - val_loss: 0.0599 - val_accuracy: 0.6402\n",
            "Epoch 69/200\n",
            "469/469 [==============================] - 1s 2ms/step - loss: 0.0602 - accuracy: 0.6374 - val_loss: 0.0594 - val_accuracy: 0.6428\n",
            "Epoch 70/200\n",
            "469/469 [==============================] - 1s 2ms/step - loss: 0.0597 - accuracy: 0.6411 - val_loss: 0.0589 - val_accuracy: 0.6463\n",
            "Epoch 71/200\n",
            "469/469 [==============================] - 1s 2ms/step - loss: 0.0592 - accuracy: 0.6442 - val_loss: 0.0584 - val_accuracy: 0.6517\n",
            "Epoch 72/200\n",
            "469/469 [==============================] - 1s 2ms/step - loss: 0.0587 - accuracy: 0.6474 - val_loss: 0.0579 - val_accuracy: 0.6543\n",
            "Epoch 73/200\n",
            "469/469 [==============================] - 1s 2ms/step - loss: 0.0582 - accuracy: 0.6507 - val_loss: 0.0574 - val_accuracy: 0.6576\n",
            "Epoch 74/200\n",
            "469/469 [==============================] - 1s 2ms/step - loss: 0.0578 - accuracy: 0.6544 - val_loss: 0.0569 - val_accuracy: 0.6598\n",
            "Epoch 75/200\n",
            "469/469 [==============================] - 1s 2ms/step - loss: 0.0573 - accuracy: 0.6575 - val_loss: 0.0565 - val_accuracy: 0.6645\n",
            "Epoch 76/200\n",
            "469/469 [==============================] - 1s 2ms/step - loss: 0.0568 - accuracy: 0.6610 - val_loss: 0.0560 - val_accuracy: 0.6677\n",
            "Epoch 77/200\n",
            "469/469 [==============================] - 1s 2ms/step - loss: 0.0564 - accuracy: 0.6640 - val_loss: 0.0555 - val_accuracy: 0.6716\n",
            "Epoch 78/200\n",
            "469/469 [==============================] - 1s 2ms/step - loss: 0.0559 - accuracy: 0.6677 - val_loss: 0.0551 - val_accuracy: 0.6739\n",
            "Epoch 79/200\n",
            "469/469 [==============================] - 1s 2ms/step - loss: 0.0554 - accuracy: 0.6713 - val_loss: 0.0546 - val_accuracy: 0.6767\n",
            "Epoch 80/200\n",
            "469/469 [==============================] - 1s 2ms/step - loss: 0.0550 - accuracy: 0.6744 - val_loss: 0.0541 - val_accuracy: 0.6801\n",
            "Epoch 81/200\n",
            "469/469 [==============================] - 1s 2ms/step - loss: 0.0546 - accuracy: 0.6780 - val_loss: 0.0537 - val_accuracy: 0.6840\n",
            "Epoch 82/200\n",
            "469/469 [==============================] - 1s 2ms/step - loss: 0.0541 - accuracy: 0.6809 - val_loss: 0.0533 - val_accuracy: 0.6881\n",
            "Epoch 83/200\n",
            "469/469 [==============================] - 1s 2ms/step - loss: 0.0537 - accuracy: 0.6841 - val_loss: 0.0528 - val_accuracy: 0.6916\n",
            "Epoch 84/200\n",
            "469/469 [==============================] - 1s 2ms/step - loss: 0.0533 - accuracy: 0.6871 - val_loss: 0.0524 - val_accuracy: 0.6956\n",
            "Epoch 85/200\n",
            "469/469 [==============================] - 1s 2ms/step - loss: 0.0528 - accuracy: 0.6904 - val_loss: 0.0520 - val_accuracy: 0.6995\n",
            "Epoch 86/200\n",
            "469/469 [==============================] - 1s 2ms/step - loss: 0.0524 - accuracy: 0.6937 - val_loss: 0.0515 - val_accuracy: 0.7030\n",
            "Epoch 87/200\n",
            "469/469 [==============================] - 1s 2ms/step - loss: 0.0520 - accuracy: 0.6970 - val_loss: 0.0511 - val_accuracy: 0.7062\n",
            "Epoch 88/200\n",
            "469/469 [==============================] - 1s 2ms/step - loss: 0.0516 - accuracy: 0.7008 - val_loss: 0.0507 - val_accuracy: 0.7094\n",
            "Epoch 89/200\n",
            "469/469 [==============================] - 1s 2ms/step - loss: 0.0512 - accuracy: 0.7041 - val_loss: 0.0503 - val_accuracy: 0.7133\n",
            "Epoch 90/200\n",
            "469/469 [==============================] - 1s 2ms/step - loss: 0.0508 - accuracy: 0.7076 - val_loss: 0.0499 - val_accuracy: 0.7166\n",
            "Epoch 91/200\n",
            "469/469 [==============================] - 1s 2ms/step - loss: 0.0504 - accuracy: 0.7106 - val_loss: 0.0495 - val_accuracy: 0.7195\n",
            "Epoch 92/200\n",
            "469/469 [==============================] - 1s 2ms/step - loss: 0.0500 - accuracy: 0.7148 - val_loss: 0.0491 - val_accuracy: 0.7241\n",
            "Epoch 93/200\n",
            "469/469 [==============================] - 1s 2ms/step - loss: 0.0497 - accuracy: 0.7177 - val_loss: 0.0488 - val_accuracy: 0.7275\n",
            "Epoch 94/200\n",
            "469/469 [==============================] - 1s 2ms/step - loss: 0.0493 - accuracy: 0.7207 - val_loss: 0.0484 - val_accuracy: 0.7311\n",
            "Epoch 95/200\n",
            "469/469 [==============================] - 1s 2ms/step - loss: 0.0489 - accuracy: 0.7240 - val_loss: 0.0480 - val_accuracy: 0.7344\n",
            "Epoch 96/200\n",
            "469/469 [==============================] - 1s 2ms/step - loss: 0.0485 - accuracy: 0.7277 - val_loss: 0.0476 - val_accuracy: 0.7379\n",
            "Epoch 97/200\n",
            "469/469 [==============================] - 1s 2ms/step - loss: 0.0482 - accuracy: 0.7305 - val_loss: 0.0473 - val_accuracy: 0.7411\n",
            "Epoch 98/200\n",
            "469/469 [==============================] - 1s 2ms/step - loss: 0.0478 - accuracy: 0.7336 - val_loss: 0.0469 - val_accuracy: 0.7440\n",
            "Epoch 99/200\n",
            "469/469 [==============================] - 1s 2ms/step - loss: 0.0475 - accuracy: 0.7369 - val_loss: 0.0465 - val_accuracy: 0.7482\n",
            "Epoch 100/200\n",
            "469/469 [==============================] - 1s 2ms/step - loss: 0.0471 - accuracy: 0.7398 - val_loss: 0.0462 - val_accuracy: 0.7509\n",
            "Epoch 101/200\n",
            "469/469 [==============================] - 1s 2ms/step - loss: 0.0468 - accuracy: 0.7424 - val_loss: 0.0458 - val_accuracy: 0.7546\n",
            "Epoch 102/200\n",
            "469/469 [==============================] - 1s 2ms/step - loss: 0.0464 - accuracy: 0.7465 - val_loss: 0.0455 - val_accuracy: 0.7572\n",
            "Epoch 103/200\n",
            "469/469 [==============================] - 1s 2ms/step - loss: 0.0461 - accuracy: 0.7492 - val_loss: 0.0452 - val_accuracy: 0.7609\n",
            "Epoch 104/200\n",
            "469/469 [==============================] - 1s 2ms/step - loss: 0.0458 - accuracy: 0.7526 - val_loss: 0.0448 - val_accuracy: 0.7636\n",
            "Epoch 105/200\n",
            "469/469 [==============================] - 1s 2ms/step - loss: 0.0454 - accuracy: 0.7555 - val_loss: 0.0445 - val_accuracy: 0.7674\n",
            "Epoch 106/200\n",
            "469/469 [==============================] - 1s 2ms/step - loss: 0.0451 - accuracy: 0.7581 - val_loss: 0.0442 - val_accuracy: 0.7699\n",
            "Epoch 107/200\n",
            "469/469 [==============================] - 1s 2ms/step - loss: 0.0448 - accuracy: 0.7613 - val_loss: 0.0438 - val_accuracy: 0.7722\n",
            "Epoch 108/200\n",
            "469/469 [==============================] - 1s 2ms/step - loss: 0.0445 - accuracy: 0.7642 - val_loss: 0.0435 - val_accuracy: 0.7750\n",
            "Epoch 109/200\n",
            "469/469 [==============================] - 1s 2ms/step - loss: 0.0442 - accuracy: 0.7670 - val_loss: 0.0432 - val_accuracy: 0.7785\n",
            "Epoch 110/200\n",
            "469/469 [==============================] - 1s 2ms/step - loss: 0.0438 - accuracy: 0.7700 - val_loss: 0.0429 - val_accuracy: 0.7817\n",
            "Epoch 111/200\n",
            "469/469 [==============================] - 1s 2ms/step - loss: 0.0435 - accuracy: 0.7727 - val_loss: 0.0426 - val_accuracy: 0.7847\n",
            "Epoch 112/200\n",
            "469/469 [==============================] - 1s 2ms/step - loss: 0.0432 - accuracy: 0.7761 - val_loss: 0.0423 - val_accuracy: 0.7870\n",
            "Epoch 113/200\n",
            "469/469 [==============================] - 1s 2ms/step - loss: 0.0429 - accuracy: 0.7786 - val_loss: 0.0420 - val_accuracy: 0.7891\n",
            "Epoch 114/200\n",
            "469/469 [==============================] - 1s 2ms/step - loss: 0.0426 - accuracy: 0.7814 - val_loss: 0.0417 - val_accuracy: 0.7925\n",
            "Epoch 115/200\n",
            "469/469 [==============================] - 1s 2ms/step - loss: 0.0423 - accuracy: 0.7835 - val_loss: 0.0414 - val_accuracy: 0.7945\n",
            "Epoch 116/200\n",
            "469/469 [==============================] - 1s 2ms/step - loss: 0.0421 - accuracy: 0.7859 - val_loss: 0.0411 - val_accuracy: 0.7973\n",
            "Epoch 117/200\n",
            "469/469 [==============================] - 1s 2ms/step - loss: 0.0418 - accuracy: 0.7882 - val_loss: 0.0408 - val_accuracy: 0.8003\n",
            "Epoch 118/200\n",
            "469/469 [==============================] - 1s 2ms/step - loss: 0.0415 - accuracy: 0.7910 - val_loss: 0.0405 - val_accuracy: 0.8034\n",
            "Epoch 119/200\n",
            "469/469 [==============================] - 1s 2ms/step - loss: 0.0412 - accuracy: 0.7933 - val_loss: 0.0402 - val_accuracy: 0.8052\n",
            "Epoch 120/200\n",
            "469/469 [==============================] - 1s 2ms/step - loss: 0.0409 - accuracy: 0.7953 - val_loss: 0.0399 - val_accuracy: 0.8079\n",
            "Epoch 121/200\n",
            "469/469 [==============================] - 1s 2ms/step - loss: 0.0407 - accuracy: 0.7975 - val_loss: 0.0397 - val_accuracy: 0.8096\n",
            "Epoch 122/200\n",
            "469/469 [==============================] - 1s 2ms/step - loss: 0.0404 - accuracy: 0.7995 - val_loss: 0.0394 - val_accuracy: 0.8112\n",
            "Epoch 123/200\n",
            "469/469 [==============================] - 1s 2ms/step - loss: 0.0401 - accuracy: 0.8014 - val_loss: 0.0391 - val_accuracy: 0.8139\n",
            "Epoch 124/200\n",
            "469/469 [==============================] - 1s 2ms/step - loss: 0.0399 - accuracy: 0.8034 - val_loss: 0.0389 - val_accuracy: 0.8164\n",
            "Epoch 125/200\n",
            "469/469 [==============================] - 1s 2ms/step - loss: 0.0396 - accuracy: 0.8055 - val_loss: 0.0386 - val_accuracy: 0.8183\n",
            "Epoch 126/200\n",
            "469/469 [==============================] - 1s 2ms/step - loss: 0.0393 - accuracy: 0.8075 - val_loss: 0.0383 - val_accuracy: 0.8203\n",
            "Epoch 127/200\n",
            "469/469 [==============================] - 1s 2ms/step - loss: 0.0391 - accuracy: 0.8090 - val_loss: 0.0381 - val_accuracy: 0.8225\n",
            "Epoch 128/200\n",
            "469/469 [==============================] - 1s 2ms/step - loss: 0.0388 - accuracy: 0.8114 - val_loss: 0.0378 - val_accuracy: 0.8241\n",
            "Epoch 129/200\n",
            "469/469 [==============================] - 1s 2ms/step - loss: 0.0386 - accuracy: 0.8130 - val_loss: 0.0376 - val_accuracy: 0.8262\n",
            "Epoch 130/200\n",
            "469/469 [==============================] - 1s 2ms/step - loss: 0.0383 - accuracy: 0.8145 - val_loss: 0.0373 - val_accuracy: 0.8273\n",
            "Epoch 131/200\n",
            "469/469 [==============================] - 1s 2ms/step - loss: 0.0381 - accuracy: 0.8165 - val_loss: 0.0371 - val_accuracy: 0.8286\n",
            "Epoch 132/200\n",
            "469/469 [==============================] - 1s 2ms/step - loss: 0.0379 - accuracy: 0.8183 - val_loss: 0.0368 - val_accuracy: 0.8300\n",
            "Epoch 133/200\n",
            "469/469 [==============================] - 1s 2ms/step - loss: 0.0376 - accuracy: 0.8195 - val_loss: 0.0366 - val_accuracy: 0.8316\n",
            "Epoch 134/200\n",
            "469/469 [==============================] - 1s 2ms/step - loss: 0.0374 - accuracy: 0.8211 - val_loss: 0.0364 - val_accuracy: 0.8334\n",
            "Epoch 135/200\n",
            "469/469 [==============================] - 1s 2ms/step - loss: 0.0372 - accuracy: 0.8224 - val_loss: 0.0361 - val_accuracy: 0.8345\n",
            "Epoch 136/200\n",
            "469/469 [==============================] - 1s 2ms/step - loss: 0.0369 - accuracy: 0.8237 - val_loss: 0.0359 - val_accuracy: 0.8358\n",
            "Epoch 137/200\n",
            "469/469 [==============================] - 1s 2ms/step - loss: 0.0367 - accuracy: 0.8249 - val_loss: 0.0357 - val_accuracy: 0.8377\n",
            "Epoch 138/200\n",
            "469/469 [==============================] - 1s 2ms/step - loss: 0.0365 - accuracy: 0.8261 - val_loss: 0.0355 - val_accuracy: 0.8385\n",
            "Epoch 139/200\n",
            "469/469 [==============================] - 1s 2ms/step - loss: 0.0363 - accuracy: 0.8274 - val_loss: 0.0352 - val_accuracy: 0.8394\n",
            "Epoch 140/200\n",
            "469/469 [==============================] - 1s 2ms/step - loss: 0.0360 - accuracy: 0.8289 - val_loss: 0.0350 - val_accuracy: 0.8401\n",
            "Epoch 141/200\n",
            "469/469 [==============================] - 1s 2ms/step - loss: 0.0358 - accuracy: 0.8301 - val_loss: 0.0348 - val_accuracy: 0.8408\n",
            "Epoch 142/200\n",
            "469/469 [==============================] - 1s 2ms/step - loss: 0.0356 - accuracy: 0.8315 - val_loss: 0.0346 - val_accuracy: 0.8419\n",
            "Epoch 143/200\n",
            "469/469 [==============================] - 1s 2ms/step - loss: 0.0354 - accuracy: 0.8327 - val_loss: 0.0344 - val_accuracy: 0.8431\n",
            "Epoch 144/200\n",
            "469/469 [==============================] - 1s 2ms/step - loss: 0.0352 - accuracy: 0.8339 - val_loss: 0.0342 - val_accuracy: 0.8436\n",
            "Epoch 145/200\n",
            "469/469 [==============================] - 1s 2ms/step - loss: 0.0350 - accuracy: 0.8351 - val_loss: 0.0340 - val_accuracy: 0.8443\n",
            "Epoch 146/200\n",
            "469/469 [==============================] - 1s 2ms/step - loss: 0.0348 - accuracy: 0.8359 - val_loss: 0.0338 - val_accuracy: 0.8456\n",
            "Epoch 147/200\n",
            "469/469 [==============================] - 1s 2ms/step - loss: 0.0346 - accuracy: 0.8367 - val_loss: 0.0336 - val_accuracy: 0.8467\n",
            "Epoch 148/200\n",
            "469/469 [==============================] - 1s 2ms/step - loss: 0.0344 - accuracy: 0.8379 - val_loss: 0.0334 - val_accuracy: 0.8477\n",
            "Epoch 149/200\n",
            "469/469 [==============================] - 1s 2ms/step - loss: 0.0342 - accuracy: 0.8387 - val_loss: 0.0332 - val_accuracy: 0.8484\n",
            "Epoch 150/200\n",
            "469/469 [==============================] - 1s 2ms/step - loss: 0.0340 - accuracy: 0.8396 - val_loss: 0.0330 - val_accuracy: 0.8491\n",
            "Epoch 151/200\n",
            "469/469 [==============================] - 1s 2ms/step - loss: 0.0338 - accuracy: 0.8403 - val_loss: 0.0328 - val_accuracy: 0.8497\n",
            "Epoch 152/200\n",
            "469/469 [==============================] - 1s 2ms/step - loss: 0.0336 - accuracy: 0.8411 - val_loss: 0.0326 - val_accuracy: 0.8507\n",
            "Epoch 153/200\n",
            "469/469 [==============================] - 1s 2ms/step - loss: 0.0335 - accuracy: 0.8419 - val_loss: 0.0324 - val_accuracy: 0.8515\n",
            "Epoch 154/200\n",
            "469/469 [==============================] - 1s 2ms/step - loss: 0.0333 - accuracy: 0.8425 - val_loss: 0.0322 - val_accuracy: 0.8520\n",
            "Epoch 155/200\n",
            "469/469 [==============================] - 1s 2ms/step - loss: 0.0331 - accuracy: 0.8432 - val_loss: 0.0321 - val_accuracy: 0.8527\n",
            "Epoch 156/200\n",
            "469/469 [==============================] - 1s 2ms/step - loss: 0.0329 - accuracy: 0.8441 - val_loss: 0.0319 - val_accuracy: 0.8536\n",
            "Epoch 157/200\n",
            "469/469 [==============================] - 1s 2ms/step - loss: 0.0327 - accuracy: 0.8445 - val_loss: 0.0317 - val_accuracy: 0.8549\n",
            "Epoch 158/200\n",
            "469/469 [==============================] - 1s 2ms/step - loss: 0.0326 - accuracy: 0.8453 - val_loss: 0.0315 - val_accuracy: 0.8557\n",
            "Epoch 159/200\n",
            "469/469 [==============================] - 1s 2ms/step - loss: 0.0324 - accuracy: 0.8462 - val_loss: 0.0314 - val_accuracy: 0.8569\n",
            "Epoch 160/200\n",
            "469/469 [==============================] - 1s 2ms/step - loss: 0.0322 - accuracy: 0.8467 - val_loss: 0.0312 - val_accuracy: 0.8577\n",
            "Epoch 161/200\n",
            "469/469 [==============================] - 1s 2ms/step - loss: 0.0321 - accuracy: 0.8472 - val_loss: 0.0310 - val_accuracy: 0.8589\n",
            "Epoch 162/200\n",
            "469/469 [==============================] - 1s 2ms/step - loss: 0.0319 - accuracy: 0.8478 - val_loss: 0.0309 - val_accuracy: 0.8599\n",
            "Epoch 163/200\n",
            "469/469 [==============================] - 1s 2ms/step - loss: 0.0317 - accuracy: 0.8483 - val_loss: 0.0307 - val_accuracy: 0.8602\n",
            "Epoch 164/200\n",
            "469/469 [==============================] - 1s 2ms/step - loss: 0.0316 - accuracy: 0.8490 - val_loss: 0.0305 - val_accuracy: 0.8609\n",
            "Epoch 165/200\n",
            "469/469 [==============================] - 1s 3ms/step - loss: 0.0314 - accuracy: 0.8495 - val_loss: 0.0304 - val_accuracy: 0.8610\n",
            "Epoch 166/200\n",
            "469/469 [==============================] - 1s 2ms/step - loss: 0.0313 - accuracy: 0.8502 - val_loss: 0.0302 - val_accuracy: 0.8622\n",
            "Epoch 167/200\n",
            "469/469 [==============================] - 1s 2ms/step - loss: 0.0311 - accuracy: 0.8509 - val_loss: 0.0301 - val_accuracy: 0.8627\n",
            "Epoch 168/200\n",
            "469/469 [==============================] - 1s 2ms/step - loss: 0.0310 - accuracy: 0.8514 - val_loss: 0.0299 - val_accuracy: 0.8630\n",
            "Epoch 169/200\n",
            "469/469 [==============================] - 1s 2ms/step - loss: 0.0308 - accuracy: 0.8520 - val_loss: 0.0298 - val_accuracy: 0.8639\n",
            "Epoch 170/200\n",
            "469/469 [==============================] - 1s 2ms/step - loss: 0.0307 - accuracy: 0.8523 - val_loss: 0.0296 - val_accuracy: 0.8641\n",
            "Epoch 171/200\n",
            "469/469 [==============================] - 1s 2ms/step - loss: 0.0305 - accuracy: 0.8527 - val_loss: 0.0295 - val_accuracy: 0.8643\n",
            "Epoch 172/200\n",
            "469/469 [==============================] - 1s 2ms/step - loss: 0.0304 - accuracy: 0.8531 - val_loss: 0.0293 - val_accuracy: 0.8650\n",
            "Epoch 173/200\n",
            "469/469 [==============================] - 1s 2ms/step - loss: 0.0302 - accuracy: 0.8536 - val_loss: 0.0292 - val_accuracy: 0.8653\n",
            "Epoch 174/200\n",
            "469/469 [==============================] - 1s 2ms/step - loss: 0.0301 - accuracy: 0.8543 - val_loss: 0.0290 - val_accuracy: 0.8658\n",
            "Epoch 175/200\n",
            "469/469 [==============================] - 1s 2ms/step - loss: 0.0300 - accuracy: 0.8548 - val_loss: 0.0289 - val_accuracy: 0.8662\n",
            "Epoch 176/200\n",
            "469/469 [==============================] - 1s 2ms/step - loss: 0.0298 - accuracy: 0.8550 - val_loss: 0.0288 - val_accuracy: 0.8665\n",
            "Epoch 177/200\n",
            "469/469 [==============================] - 1s 2ms/step - loss: 0.0297 - accuracy: 0.8555 - val_loss: 0.0286 - val_accuracy: 0.8670\n",
            "Epoch 178/200\n",
            "469/469 [==============================] - 1s 2ms/step - loss: 0.0296 - accuracy: 0.8559 - val_loss: 0.0285 - val_accuracy: 0.8677\n",
            "Epoch 179/200\n",
            "469/469 [==============================] - 1s 2ms/step - loss: 0.0294 - accuracy: 0.8563 - val_loss: 0.0284 - val_accuracy: 0.8681\n",
            "Epoch 180/200\n",
            "469/469 [==============================] - 1s 2ms/step - loss: 0.0293 - accuracy: 0.8569 - val_loss: 0.0282 - val_accuracy: 0.8685\n",
            "Epoch 181/200\n",
            "469/469 [==============================] - 1s 2ms/step - loss: 0.0292 - accuracy: 0.8575 - val_loss: 0.0281 - val_accuracy: 0.8688\n",
            "Epoch 182/200\n",
            "469/469 [==============================] - 1s 2ms/step - loss: 0.0290 - accuracy: 0.8579 - val_loss: 0.0280 - val_accuracy: 0.8693\n",
            "Epoch 183/200\n",
            "469/469 [==============================] - 1s 2ms/step - loss: 0.0289 - accuracy: 0.8583 - val_loss: 0.0279 - val_accuracy: 0.8697\n",
            "Epoch 184/200\n",
            "469/469 [==============================] - 1s 2ms/step - loss: 0.0288 - accuracy: 0.8585 - val_loss: 0.0277 - val_accuracy: 0.8702\n",
            "Epoch 185/200\n",
            "469/469 [==============================] - 1s 2ms/step - loss: 0.0287 - accuracy: 0.8589 - val_loss: 0.0276 - val_accuracy: 0.8705\n",
            "Epoch 186/200\n",
            "469/469 [==============================] - 1s 2ms/step - loss: 0.0285 - accuracy: 0.8591 - val_loss: 0.0275 - val_accuracy: 0.8708\n",
            "Epoch 187/200\n",
            "469/469 [==============================] - 1s 2ms/step - loss: 0.0284 - accuracy: 0.8596 - val_loss: 0.0274 - val_accuracy: 0.8710\n",
            "Epoch 188/200\n",
            "469/469 [==============================] - 1s 2ms/step - loss: 0.0283 - accuracy: 0.8600 - val_loss: 0.0273 - val_accuracy: 0.8713\n",
            "Epoch 189/200\n",
            "469/469 [==============================] - 1s 2ms/step - loss: 0.0282 - accuracy: 0.8604 - val_loss: 0.0271 - val_accuracy: 0.8723\n",
            "Epoch 190/200\n",
            "469/469 [==============================] - 1s 2ms/step - loss: 0.0281 - accuracy: 0.8610 - val_loss: 0.0270 - val_accuracy: 0.8724\n",
            "Epoch 191/200\n",
            "469/469 [==============================] - 1s 2ms/step - loss: 0.0280 - accuracy: 0.8613 - val_loss: 0.0269 - val_accuracy: 0.8727\n",
            "Epoch 192/200\n",
            "469/469 [==============================] - 1s 2ms/step - loss: 0.0279 - accuracy: 0.8618 - val_loss: 0.0268 - val_accuracy: 0.8732\n",
            "Epoch 193/200\n",
            "469/469 [==============================] - 1s 2ms/step - loss: 0.0278 - accuracy: 0.8619 - val_loss: 0.0267 - val_accuracy: 0.8735\n",
            "Epoch 194/200\n",
            "469/469 [==============================] - 1s 2ms/step - loss: 0.0276 - accuracy: 0.8622 - val_loss: 0.0266 - val_accuracy: 0.8736\n",
            "Epoch 195/200\n",
            "469/469 [==============================] - 1s 2ms/step - loss: 0.0275 - accuracy: 0.8626 - val_loss: 0.0265 - val_accuracy: 0.8737\n",
            "Epoch 196/200\n",
            "469/469 [==============================] - 1s 2ms/step - loss: 0.0274 - accuracy: 0.8629 - val_loss: 0.0264 - val_accuracy: 0.8739\n",
            "Epoch 197/200\n",
            "469/469 [==============================] - 1s 2ms/step - loss: 0.0273 - accuracy: 0.8632 - val_loss: 0.0263 - val_accuracy: 0.8741\n",
            "Epoch 198/200\n",
            "469/469 [==============================] - 1s 2ms/step - loss: 0.0272 - accuracy: 0.8635 - val_loss: 0.0262 - val_accuracy: 0.8745\n",
            "Epoch 199/200\n",
            "469/469 [==============================] - 1s 2ms/step - loss: 0.0271 - accuracy: 0.8639 - val_loss: 0.0261 - val_accuracy: 0.8745\n",
            "Epoch 200/200\n",
            "469/469 [==============================] - 1s 2ms/step - loss: 0.0270 - accuracy: 0.8642 - val_loss: 0.0260 - val_accuracy: 0.8746\n"
          ],
          "name": "stdout"
        },
        {
          "output_type": "execute_result",
          "data": {
            "text/plain": [
              "<tensorflow.python.keras.callbacks.History at 0x7f666cb69048>"
            ]
          },
          "metadata": {
            "tags": []
          },
          "execution_count": 23
        }
      ]
    },
    {
      "cell_type": "markdown",
      "metadata": {
        "id": "zZEkX_n86bL3",
        "colab_type": "text"
      },
      "source": [
        "#### Evaluating model performance"
      ]
    },
    {
      "cell_type": "code",
      "metadata": {
        "id": "d-wSnC1j6bL3",
        "colab_type": "code",
        "colab": {
          "base_uri": "https://localhost:8080/",
          "height": 51
        },
        "outputId": "81b2423b-a65b-4712-abf6-e2dfe2ff96fe"
      },
      "source": [
        "model.evaluate(X_valid, y_valid)"
      ],
      "execution_count": 24,
      "outputs": [
        {
          "output_type": "stream",
          "text": [
            "313/313 [==============================] - 0s 1ms/step - loss: 0.0260 - accuracy: 0.8746\n"
          ],
          "name": "stdout"
        },
        {
          "output_type": "execute_result",
          "data": {
            "text/plain": [
              "[0.02600044570863247, 0.8745999932289124]"
            ]
          },
          "metadata": {
            "tags": []
          },
          "execution_count": 24
        }
      ]
    },
    {
      "cell_type": "markdown",
      "metadata": {
        "id": "bxnZnhNJ6bL6",
        "colab_type": "text"
      },
      "source": [
        "#### Performing inference"
      ]
    },
    {
      "cell_type": "code",
      "metadata": {
        "id": "2335eloo6bL6",
        "colab_type": "code",
        "colab": {}
      },
      "source": [
        "valid_0 = X_valid[0].reshape(1, 784)"
      ],
      "execution_count": 0,
      "outputs": []
    },
    {
      "cell_type": "code",
      "metadata": {
        "id": "R1Sw9TtP6bL8",
        "colab_type": "code",
        "colab": {
          "base_uri": "https://localhost:8080/",
          "height": 68
        },
        "outputId": "6342f58d-f638-4a0f-c581-39b6f7b14014"
      },
      "source": [
        "model.predict(valid_0)"
      ],
      "execution_count": 26,
      "outputs": [
        {
          "output_type": "execute_result",
          "data": {
            "text/plain": [
              "array([[5.2923900e-03, 9.7955693e-04, 2.6160907e-03, 6.6679111e-03,\n",
              "        2.9916109e-03, 6.2148473e-03, 4.7282502e-04, 9.3707079e-01,\n",
              "        3.4891239e-03, 3.4204800e-02]], dtype=float32)"
            ]
          },
          "metadata": {
            "tags": []
          },
          "execution_count": 26
        }
      ]
    },
    {
      "cell_type": "code",
      "metadata": {
        "id": "b0A1hM6K6bL-",
        "colab_type": "code",
        "colab": {
          "base_uri": "https://localhost:8080/",
          "height": 105
        },
        "outputId": "ca82bb76-c323-4013-d62e-9d08965316d7"
      },
      "source": [
        "model.predict_classes(valid_0)"
      ],
      "execution_count": 27,
      "outputs": [
        {
          "output_type": "stream",
          "text": [
            "WARNING:tensorflow:From <ipython-input-27-f7c492057c27>:1: Sequential.predict_classes (from tensorflow.python.keras.engine.sequential) is deprecated and will be removed after 2021-01-01.\n",
            "Instructions for updating:\n",
            "Please use instead:* `np.argmax(model.predict(x), axis=-1)`,   if your model does multi-class classification   (e.g. if it uses a `softmax` last-layer activation).* `(model.predict(x) > 0.5).astype(\"int32\")`,   if your model does binary classification   (e.g. if it uses a `sigmoid` last-layer activation).\n"
          ],
          "name": "stdout"
        },
        {
          "output_type": "execute_result",
          "data": {
            "text/plain": [
              "array([7])"
            ]
          },
          "metadata": {
            "tags": []
          },
          "execution_count": 27
        }
      ]
    },
    {
      "cell_type": "code",
      "metadata": {
        "id": "Io74zEKy6bMA",
        "colab_type": "code",
        "colab": {}
      },
      "source": [
        ""
      ],
      "execution_count": 0,
      "outputs": []
    }
  ]
}